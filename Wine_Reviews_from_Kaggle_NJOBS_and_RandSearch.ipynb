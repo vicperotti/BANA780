{
  "nbformat": 4,
  "nbformat_minor": 0,
  "metadata": {
    "kernelspec": {
      "display_name": "Python 3",
      "language": "python",
      "name": "python3"
    },
    "language_info": {
      "codemirror_mode": {
        "name": "ipython",
        "version": 3
      },
      "file_extension": ".py",
      "mimetype": "text/x-python",
      "name": "python",
      "nbconvert_exporter": "python",
      "pygments_lexer": "ipython3",
      "version": "3.5.2"
    },
    "colab": {
      "name": "Wine Reviews from Kaggle NJOBS and RandSearch.ipynb",
      "provenance": [],
      "toc_visible": true,
      "include_colab_link": true
    }
  },
  "cells": [
    {
      "cell_type": "markdown",
      "metadata": {
        "id": "view-in-github",
        "colab_type": "text"
      },
      "source": [
        "<a href=\"https://colab.research.google.com/github/vicperotti/BANA780/blob/main/Wine_Reviews_from_Kaggle_NJOBS_and_RandSearch.ipynb\" target=\"_parent\"><img src=\"https://colab.research.google.com/assets/colab-badge.svg\" alt=\"Open In Colab\"/></a>"
      ]
    },
    {
      "cell_type": "markdown",
      "metadata": {
        "id": "7Tdq-LxL5wvg"
      },
      "source": [
        "# In this example, Let's look at preprocessing in sklearn\n",
        "specifically I want to highlight....\n",
        "encoding categorical variables\n",
        "and imputing missing values\n"
      ]
    },
    {
      "cell_type": "code",
      "metadata": {
        "id": "99qgJhlK5wvg"
      },
      "source": [
        "# This example from https://www.kaggle.com/zynicide/wine-reviews\n",
        "# 2. Import libraries and modules\n",
        "import numpy as np\n",
        "import pandas as pd\n",
        "import joblib\n",
        "\n",
        "from sklearn.model_selection import train_test_split\n",
        "from sklearn import preprocessing\n",
        "from sklearn.ensemble import RandomForestRegressor\n",
        "from sklearn.pipeline import make_pipeline\n",
        "from sklearn.model_selection import GridSearchCV\n",
        "from sklearn.metrics import mean_squared_error, r2_score\n",
        "from sklearn.compose import ColumnTransformer, make_column_transformer\n"
      ],
      "execution_count": 2,
      "outputs": []
    },
    {
      "cell_type": "code",
      "metadata": {
        "colab": {
          "base_uri": "https://localhost:8080/"
        },
        "id": "QaCciRT35wvg",
        "outputId": "0f4f57a5-92e3-4fd9-b036-39f73db58e00"
      },
      "source": [
        " data = pd.read_csv('winemag-data-130k-v2.csv') \n",
        "#data = pd.read_csv('winemag-data_first150k.csv')\n",
        "#afinn = Afinn(emoticons=True)\n",
        "len(data)"
      ],
      "execution_count": 3,
      "outputs": [
        {
          "output_type": "execute_result",
          "data": {
            "text/plain": [
              "129971"
            ]
          },
          "metadata": {
            "tags": []
          },
          "execution_count": 3
        }
      ]
    },
    {
      "cell_type": "code",
      "metadata": {
        "colab": {
          "base_uri": "https://localhost:8080/"
        },
        "id": "EYePMnkYeusv",
        "outputId": "1d404ae3-8be6-4471-ab43-eb075aa46a6c"
      },
      "source": [
        "#drop a bunch of rows to make this more quick to compute\n",
        "np.random.seed(10)\n",
        "remove_n = 50000\n",
        "drop_indices = np.random.choice(data.index, remove_n, replace=False)\n",
        "data = data.drop(drop_indices)\n",
        "data.shape"
      ],
      "execution_count": 4,
      "outputs": [
        {
          "output_type": "execute_result",
          "data": {
            "text/plain": [
              "(79971, 14)"
            ]
          },
          "metadata": {
            "tags": []
          },
          "execution_count": 4
        }
      ]
    },
    {
      "cell_type": "code",
      "metadata": {
        "colab": {
          "base_uri": "https://localhost:8080/"
        },
        "id": "kcbmvbtV5wvh",
        "outputId": "3e3aa016-86b3-408c-be5c-7a3b7de0a8d1"
      },
      "source": [
        "# look a number of columns have missing values!\n",
        "print(data.isnull().sum())"
      ],
      "execution_count": 5,
      "outputs": [
        {
          "output_type": "stream",
          "text": [
            "Unnamed: 0                   0\n",
            "country                     33\n",
            "description                  0\n",
            "designation              23041\n",
            "points                       0\n",
            "price                     5549\n",
            "province                    33\n",
            "region_1                 12984\n",
            "region_2                 48979\n",
            "taster_name              16187\n",
            "taster_twitter_handle    19249\n",
            "title                        0\n",
            "variety                      0\n",
            "winery                       0\n",
            "dtype: int64\n"
          ],
          "name": "stdout"
        }
      ]
    },
    {
      "cell_type": "code",
      "metadata": {
        "colab": {
          "base_uri": "https://localhost:8080/"
        },
        "id": "GfnTh8D45wvh",
        "outputId": "1698350a-c6f9-496f-eb46-a8a457b27acb"
      },
      "source": [
        "#Oh why not add sentiment to description\n",
        "#Note this takes a long time!\n",
        "#data[['sentiment']] = data['description'].apply(lambda Text: pd.Series(afinn.score(Text)))\n",
        "\n",
        "# DROP rows with missing values in each of the following\n",
        "data2 = data.dropna(subset=['points','country','price', 'province','variety','winery'])\n",
        "features = data2[['country','price', 'province','variety','winery']]\n",
        "print(\"after dropping na there are %d rows left\" % len(data2))\n",
        "print(features.head())"
      ],
      "execution_count": 6,
      "outputs": [
        {
          "output_type": "stream",
          "text": [
            "after dropping na there are 74391 rows left\n",
            "  country  price           province         variety           winery\n",
            "2      US   14.0             Oregon      Pinot Gris        Rainstorm\n",
            "3      US   13.0           Michigan        Riesling       St. Julian\n",
            "4      US   65.0             Oregon      Pinot Noir     Sweet Cheeks\n",
            "6   Italy   16.0  Sicily & Sardinia        Frappato  Terre di Giurfo\n",
            "7  France   24.0             Alsace  Gewürztraminer         Trimbach\n"
          ],
          "name": "stdout"
        }
      ]
    },
    {
      "cell_type": "markdown",
      "metadata": {
        "id": "z9jcRQay7ETx"
      },
      "source": [
        "In the original example, the X variables were created by taking all the data and dropping the points (dependent variable) column. Because we instead chose specific columns aka features above, we don't need to do this."
      ]
    },
    {
      "cell_type": "code",
      "metadata": {
        "id": "A5Zljjvg5wvh"
      },
      "source": [
        "y = data2.points # data2['points']\n",
        "#X = data.drop('points', axis=1)\n",
        "X_train, X_test, y_train, y_test = train_test_split(features, y,\n",
        "                                                    test_size=0.33,\n",
        "                                                    random_state=42)"
      ],
      "execution_count": null,
      "outputs": []
    },
    {
      "cell_type": "code",
      "metadata": {
        "colab": {
          "base_uri": "https://localhost:8080/"
        },
        "id": "81uykwK2fKK6",
        "outputId": "9be5d776-72f0-44b8-e808-df1e61e941c4"
      },
      "source": [
        "#how many cores can we use?\n",
        "import multiprocessing\n",
        "cores = multiprocessing.cpu_count()\n",
        "cores"
      ],
      "execution_count": 7,
      "outputs": [
        {
          "output_type": "execute_result",
          "data": {
            "text/plain": [
              "2"
            ]
          },
          "metadata": {
            "tags": []
          },
          "execution_count": 7
        }
      ]
    },
    {
      "cell_type": "code",
      "metadata": {
        "id": "Wv0Gcprf5wvh"
      },
      "source": [
        "# so how do we handle those pesky categorical variables\n",
        "#VIA https://scikit-learn.org/stable/modules/preprocessing.html\n",
        "#AND https://jorisvandenbossche.github.io/blog/2018/05/28/scikit-learn-columntransformer/\n",
        "\n",
        "preprocess = make_column_transformer(\n",
        "    (preprocessing.OneHotEncoder(handle_unknown='ignore'),['country', 'province','variety','winery'] ),\n",
        "    (preprocessing.StandardScaler(),['price'])\n",
        ")\n",
        "\n",
        "# 5. Declare data preprocessing steps\n",
        "pipeline = make_pipeline(preprocess,\n",
        "                         RandomForestRegressor(n_estimators=50,n_jobs=cores))\n",
        "\n",
        "# 6. Declare hyperparameters to tune\n",
        "hyperparameters = { 'randomforestregressor__max_features' : ['auto', 'sqrt', 'log2'],\n",
        "                  'randomforestregressor__max_depth': [None, 5, 3, 1]}\n"
      ],
      "execution_count": 8,
      "outputs": []
    },
    {
      "cell_type": "code",
      "metadata": {
        "id": "VZ4iysR1hMSF"
      },
      "source": [
        "#https://blog.usejournal.com/a-comparison-of-grid-search-and-randomized-search-using-scikit-learn-29823179bc85"
      ],
      "execution_count": null,
      "outputs": []
    },
    {
      "cell_type": "code",
      "metadata": {
        "colab": {
          "base_uri": "https://localhost:8080/"
        },
        "id": "Qf7XI73Pf5ST",
        "outputId": "401fcd65-707b-4ede-9ad2-fbf56f68b679"
      },
      "source": [
        "from sklearn.model_selection import RandomizedSearchCV\n",
        "\n",
        "rand_search = RandomizedSearchCV(pipeline, hyperparameters, random_state=0,cv=5,n_jobs=cores)\n",
        "y = data2.points\n",
        "%timeit rand_search.fit(features, y)"
      ],
      "execution_count": 12,
      "outputs": [
        {
          "output_type": "stream",
          "text": [
            "1 loop, best of 5: 54min 57s per loop\n"
          ],
          "name": "stdout"
        }
      ]
    },
    {
      "cell_type": "code",
      "metadata": {
        "id": "t4bEoAgF5wvh",
        "colab": {
          "base_uri": "https://localhost:8080/"
        },
        "outputId": "01cf9af5-a85d-4385-d697-8d6678f32525"
      },
      "source": [
        "# 9. Evaluate model pipeline on test data\n",
        "pred4 = rand_search.predict(features)\n",
        "print (r2_score(y, pred4))\n",
        "print (mean_squared_error(y, pred4))"
      ],
      "execution_count": 13,
      "outputs": [
        {
          "output_type": "stream",
          "text": [
            "0.875264133481134\n",
            "1.155028725456543\n"
          ],
          "name": "stdout"
        }
      ]
    },
    {
      "cell_type": "code",
      "metadata": {
        "id": "bjjkzsSk5wvh",
        "colab": {
          "base_uri": "https://localhost:8080/"
        },
        "outputId": "f85bfd7a-f4d4-4b02-dc69-d11aa5c38ad7"
      },
      "source": [
        "# 10. Save model for future use\n",
        "joblib.dump(rand_search, 'randwineregressordropnas.pkl')"
      ],
      "execution_count": 14,
      "outputs": [
        {
          "output_type": "execute_result",
          "data": {
            "text/plain": [
              "['randwineregressordropnas.pkl']"
            ]
          },
          "metadata": {
            "tags": []
          },
          "execution_count": 14
        }
      ]
    },
    {
      "cell_type": "code",
      "metadata": {
        "id": "ONSkPoz_5wvh",
        "colab": {
          "base_uri": "https://localhost:8080/"
        },
        "outputId": "27c24d68-c6bc-46ba-978f-a5796c265fcb"
      },
      "source": [
        "rand_search.best_params_"
      ],
      "execution_count": 15,
      "outputs": [
        {
          "output_type": "execute_result",
          "data": {
            "text/plain": [
              "{'randomforestregressor__max_depth': None,\n",
              " 'randomforestregressor__max_features': 'sqrt'}"
            ]
          },
          "metadata": {
            "tags": []
          },
          "execution_count": 15
        }
      ]
    },
    {
      "cell_type": "code",
      "metadata": {
        "id": "ZbqJGwAm5wvh",
        "colab": {
          "base_uri": "https://localhost:8080/"
        },
        "outputId": "402cdd11-4176-421d-e6bb-7df2a08e900e"
      },
      "source": [
        "rand_search.best_estimator_"
      ],
      "execution_count": 17,
      "outputs": [
        {
          "output_type": "execute_result",
          "data": {
            "text/plain": [
              "Pipeline(memory=None,\n",
              "         steps=[('columntransformer',\n",
              "                 ColumnTransformer(n_jobs=None, remainder='drop',\n",
              "                                   sparse_threshold=0.3,\n",
              "                                   transformer_weights=None,\n",
              "                                   transformers=[('onehotencoder',\n",
              "                                                  OneHotEncoder(categories='auto',\n",
              "                                                                drop=None,\n",
              "                                                                dtype=<class 'numpy.float64'>,\n",
              "                                                                handle_unknown='ignore',\n",
              "                                                                sparse=True),\n",
              "                                                  ['country', 'province',\n",
              "                                                   'variety', 'winery']),\n",
              "                                                 ('standardscaler',\n",
              "                                                  Standard...\n",
              "                 RandomForestRegressor(bootstrap=True, ccp_alpha=0.0,\n",
              "                                       criterion='mse', max_depth=None,\n",
              "                                       max_features='sqrt', max_leaf_nodes=None,\n",
              "                                       max_samples=None,\n",
              "                                       min_impurity_decrease=0.0,\n",
              "                                       min_impurity_split=None,\n",
              "                                       min_samples_leaf=1, min_samples_split=2,\n",
              "                                       min_weight_fraction_leaf=0.0,\n",
              "                                       n_estimators=50, n_jobs=2,\n",
              "                                       oob_score=False, random_state=None,\n",
              "                                       verbose=0, warm_start=False))],\n",
              "         verbose=False)"
            ]
          },
          "metadata": {
            "tags": []
          },
          "execution_count": 17
        }
      ]
    },
    {
      "cell_type": "code",
      "metadata": {
        "id": "4mwFCLMYdQtD"
      },
      "source": [
        "feature_names = rand_search.best_estimator_.named_steps['columntransformer'].transformers_[0][1].get_feature_names()\n",
        "feature_names = np.append(feature_names,['price'])"
      ],
      "execution_count": 21,
      "outputs": []
    },
    {
      "cell_type": "code",
      "metadata": {
        "colab": {
          "base_uri": "https://localhost:8080/",
          "height": 282
        },
        "id": "GJnDICisc5lM",
        "outputId": "9e22323f-69da-4957-8a83-36dd8681c0fb"
      },
      "source": [
        "featimparray = rand_search.best_estimator_.named_steps['randomforestregressor'].feature_importances_\n",
        "\n",
        "feat_importances = pd.Series(featimparray, index=feature_names)\n",
        "feat_importances.nlargest(20).plot(kind='barh')"
      ],
      "execution_count": 22,
      "outputs": [
        {
          "output_type": "execute_result",
          "data": {
            "text/plain": [
              "<matplotlib.axes._subplots.AxesSubplot at 0x7feaa1165d10>"
            ]
          },
          "metadata": {
            "tags": []
          },
          "execution_count": 22
        },
        {
          "output_type": "display_data",
          "data": {
            "image/png": "[encoded data removed]",
            "text/plain": [
              "<Figure size 432x288 with 1 Axes>"
            ]
          },
          "metadata": {
            "tags": [],
            "needs_background": "light"
          }
        }
      ]
    }
  ]
}